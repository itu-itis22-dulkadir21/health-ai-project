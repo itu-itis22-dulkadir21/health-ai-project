{
 "cells": [
  {
   "cell_type": "code",
   "execution_count": 1,
   "metadata": {},
   "outputs": [
    {
     "name": "stdout",
     "output_type": "stream",
     "text": [
      "CSV dosyası başarıyla sıralanarak oluşturuldu.\n"
     ]
    }
   ],
   "source": [
    "import os\n",
    "import csv\n",
    "\n",
    "# Klasörlerin yolları\n",
    "test_1 = 'data\\Test Veri Seti_1\\PNG'\n",
    "test_2 = 'data\\Test Veri Seti_2\\PNG'\n",
    "\n",
    "# İlk olarak verileri topla\n",
    "image_data = []\n",
    "\n",
    "# inme-var klasöründeki .png dosyalarını işle\n",
    "for filename in os.listdir(test_1):\n",
    "    if filename.endswith('.png'):\n",
    "        image_data.append([filename, 1])\n",
    "\n",
    "# inme-yok klasöründeki .png dosyalarını işle\n",
    "for filename in os.listdir(test_2):\n",
    "    if filename.endswith('.png'):\n",
    "        image_data.append([filename, 0])\n",
    "\n",
    "# image_data'yı image-name'e göre sırala\n",
    "image_data.sort(key=lambda x: x[0])  # İlk eleman (image-name) üzerinden sıralama\n",
    "\n",
    "# CSV dosyasını sıralanmış şekilde yaz\n",
    "with open('images_inme_durumu_test_data_sorted.csv', mode='w', newline='') as file:\n",
    "    writer = csv.writer(file)\n",
    "    \n",
    "    # Başlık satırını yaz\n",
    "    writer.writerow(['image-name', 'inme-durumu'])\n",
    "    \n",
    "    # Sıralanmış veriyi yaz\n",
    "    writer.writerows(image_data)\n",
    "\n",
    "print(\"CSV dosyası başarıyla sıralanarak oluşturuldu.\")\n"
   ]
  }
 ],
 "metadata": {
  "kernelspec": {
   "display_name": ".venv",
   "language": "python",
   "name": "python3"
  },
  "language_info": {
   "codemirror_mode": {
    "name": "ipython",
    "version": 3
   },
   "file_extension": ".py",
   "mimetype": "text/x-python",
   "name": "python",
   "nbconvert_exporter": "python",
   "pygments_lexer": "ipython3",
   "version": "3.10.0"
  }
 },
 "nbformat": 4,
 "nbformat_minor": 2
}
